{
 "cells": [
  {
   "cell_type": "code",
   "execution_count": 1,
   "id": "7909515a",
   "metadata": {},
   "outputs": [
    {
     "name": "stdout",
     "output_type": "stream",
     "text": [
      "Requirement already satisfied: qiskit in c:\\users\\hp\\anaconda3\\lib\\site-packages (0.44.3)\n",
      "Requirement already satisfied: qiskit-terra==0.25.3 in c:\\users\\hp\\anaconda3\\lib\\site-packages (from qiskit) (0.25.3)\n",
      "Requirement already satisfied: rustworkx>=0.13.0 in c:\\users\\hp\\anaconda3\\lib\\site-packages (from qiskit-terra==0.25.3->qiskit) (0.13.2)\n",
      "Requirement already satisfied: numpy>=1.17 in c:\\users\\hp\\anaconda3\\lib\\site-packages (from qiskit-terra==0.25.3->qiskit) (1.24.3)\n",
      "Requirement already satisfied: ply>=3.10 in c:\\users\\hp\\anaconda3\\lib\\site-packages (from qiskit-terra==0.25.3->qiskit) (3.11)\n",
      "Requirement already satisfied: psutil>=5 in c:\\users\\hp\\anaconda3\\lib\\site-packages (from qiskit-terra==0.25.3->qiskit) (5.9.0)\n",
      "Requirement already satisfied: scipy>=1.5 in c:\\users\\hp\\anaconda3\\lib\\site-packages (from qiskit-terra==0.25.3->qiskit) (1.11.1)\n",
      "Requirement already satisfied: sympy>=1.3 in c:\\users\\hp\\anaconda3\\lib\\site-packages (from qiskit-terra==0.25.3->qiskit) (1.11.1)\n",
      "Requirement already satisfied: dill>=0.3 in c:\\users\\hp\\anaconda3\\lib\\site-packages (from qiskit-terra==0.25.3->qiskit) (0.3.6)\n",
      "Requirement already satisfied: python-dateutil>=2.8.0 in c:\\users\\hp\\anaconda3\\lib\\site-packages (from qiskit-terra==0.25.3->qiskit) (2.8.2)\n",
      "Requirement already satisfied: stevedore>=3.0.0 in c:\\users\\hp\\anaconda3\\lib\\site-packages (from qiskit-terra==0.25.3->qiskit) (5.1.0)\n",
      "Requirement already satisfied: six>=1.5 in c:\\users\\hp\\anaconda3\\lib\\site-packages (from python-dateutil>=2.8.0->qiskit-terra==0.25.3->qiskit) (1.16.0)\n",
      "Requirement already satisfied: pbr!=2.1.0,>=2.0.0 in c:\\users\\hp\\anaconda3\\lib\\site-packages (from stevedore>=3.0.0->qiskit-terra==0.25.3->qiskit) (5.11.1)\n",
      "Requirement already satisfied: mpmath>=0.19 in c:\\users\\hp\\anaconda3\\lib\\site-packages (from sympy>=1.3->qiskit-terra==0.25.3->qiskit) (1.3.0)\n"
     ]
    }
   ],
   "source": [
    "!pip install qiskit"
   ]
  },
  {
   "cell_type": "code",
   "execution_count": 2,
   "id": "4d5015fc",
   "metadata": {},
   "outputs": [
    {
     "name": "stdout",
     "output_type": "stream",
     "text": [
      "Requirement already satisfied: qiskit-aer in c:\\users\\hp\\anaconda3\\lib\\site-packages (0.13.0)\n",
      "Requirement already satisfied: qiskit>=0.44.0 in c:\\users\\hp\\anaconda3\\lib\\site-packages (from qiskit-aer) (0.44.3)\n",
      "Requirement already satisfied: numpy>=1.16.3 in c:\\users\\hp\\anaconda3\\lib\\site-packages (from qiskit-aer) (1.24.3)\n",
      "Requirement already satisfied: scipy>=1.0 in c:\\users\\hp\\anaconda3\\lib\\site-packages (from qiskit-aer) (1.11.1)\n",
      "Requirement already satisfied: qiskit-terra==0.25.3 in c:\\users\\hp\\anaconda3\\lib\\site-packages (from qiskit>=0.44.0->qiskit-aer) (0.25.3)\n",
      "Requirement already satisfied: rustworkx>=0.13.0 in c:\\users\\hp\\anaconda3\\lib\\site-packages (from qiskit-terra==0.25.3->qiskit>=0.44.0->qiskit-aer) (0.13.2)\n",
      "Requirement already satisfied: ply>=3.10 in c:\\users\\hp\\anaconda3\\lib\\site-packages (from qiskit-terra==0.25.3->qiskit>=0.44.0->qiskit-aer) (3.11)\n",
      "Requirement already satisfied: psutil>=5 in c:\\users\\hp\\anaconda3\\lib\\site-packages (from qiskit-terra==0.25.3->qiskit>=0.44.0->qiskit-aer) (5.9.0)\n",
      "Requirement already satisfied: sympy>=1.3 in c:\\users\\hp\\anaconda3\\lib\\site-packages (from qiskit-terra==0.25.3->qiskit>=0.44.0->qiskit-aer) (1.11.1)\n",
      "Requirement already satisfied: dill>=0.3 in c:\\users\\hp\\anaconda3\\lib\\site-packages (from qiskit-terra==0.25.3->qiskit>=0.44.0->qiskit-aer) (0.3.6)\n",
      "Requirement already satisfied: python-dateutil>=2.8.0 in c:\\users\\hp\\anaconda3\\lib\\site-packages (from qiskit-terra==0.25.3->qiskit>=0.44.0->qiskit-aer) (2.8.2)\n",
      "Requirement already satisfied: stevedore>=3.0.0 in c:\\users\\hp\\anaconda3\\lib\\site-packages (from qiskit-terra==0.25.3->qiskit>=0.44.0->qiskit-aer) (5.1.0)\n",
      "Requirement already satisfied: six>=1.5 in c:\\users\\hp\\anaconda3\\lib\\site-packages (from python-dateutil>=2.8.0->qiskit-terra==0.25.3->qiskit>=0.44.0->qiskit-aer) (1.16.0)\n",
      "Requirement already satisfied: pbr!=2.1.0,>=2.0.0 in c:\\users\\hp\\anaconda3\\lib\\site-packages (from stevedore>=3.0.0->qiskit-terra==0.25.3->qiskit>=0.44.0->qiskit-aer) (5.11.1)\n",
      "Requirement already satisfied: mpmath>=0.19 in c:\\users\\hp\\anaconda3\\lib\\site-packages (from sympy>=1.3->qiskit-terra==0.25.3->qiskit>=0.44.0->qiskit-aer) (1.3.0)\n"
     ]
    }
   ],
   "source": [
    "!pip install qiskit-aer"
   ]
  },
  {
   "cell_type": "code",
   "execution_count": 3,
   "id": "0db9b75e",
   "metadata": {},
   "outputs": [],
   "source": [
    "import numpy as np\n",
    "from qiskit import QuantumCircuit, transpile, Aer, execute\n"
   ]
  },
  {
   "cell_type": "code",
   "execution_count": 4,
   "id": "be58c6b7",
   "metadata": {},
   "outputs": [],
   "source": [
    "# Generate a random quantum circuit\n",
    "def generate_random_circuit(num_qubits, depth):\n",
    "    circuit = QuantumCircuit(num_qubits, num_qubits)\n",
    "    for _ in range(depth):\n",
    "        for qubit in range(num_qubits):\n",
    "            circuit.rx(np.random.uniform(0, 2 * np.pi), qubit)\n",
    "            circuit.ry(np.random.uniform(0, 2 * np.pi), qubit)\n",
    "            circuit.rz(np.random.uniform(0, 2 * np.pi), qubit)\n",
    "        for qubit in range(num_qubits - 1):\n",
    "            circuit.cz(qubit, qubit + 1)\n",
    "    return circuit"
   ]
  },
  {
   "cell_type": "code",
   "execution_count": 5,
   "id": "6145ca94",
   "metadata": {},
   "outputs": [],
   "source": [
    "# Perform randomized benchmarking\n",
    "def randomized_benchmarking(num_qubits, depths, num_sequences, shots):\n",
    "    backend = Aer.get_backend('statevector_simulator')\n",
    "    results = []\n",
    "    for depth in depths:\n",
    "        success_counts = 0\n",
    "        for _ in range(num_sequences):\n",
    "            # Generate a random circuit and the corresponding inverse circuit\n",
    "            circuit = generate_random_circuit(num_qubits, depth)\n",
    "            inverse_circuit = circuit.inverse()\n",
    "\n",
    "            # Apply the circuit and obtain the final statevector\n",
    "            circuit_result = execute(circuit, backend=backend).result()\n",
    "            final_statevector = circuit_result.get_statevector()\n",
    "\n",
    "            # Apply the inverse circuit and obtain the final statevector\n",
    "            inverse_result = execute(inverse_circuit, backend=backend).result()\n",
    "            inverse_statevector = inverse_result.get_statevector()\n",
    "\n",
    "            # Calculate the success rate based on state fidelity\n",
    "            fidelity = np.abs(np.dot(final_statevector, inverse_statevector.conj())) ** 2\n",
    "            success_counts += shots * (1 - fidelity)\n",
    "\n",
    "        success_rate = success_counts / (num_sequences * shots)\n",
    "        results.append(success_rate)\n",
    "    return results"
   ]
  },
  {
   "cell_type": "code",
   "execution_count": 6,
   "id": "d8b39466",
   "metadata": {},
   "outputs": [
    {
     "name": "stderr",
     "output_type": "stream",
     "text": [
      "C:\\Users\\HP\\AppData\\Local\\Temp\\ipykernel_18352\\3241375673.py:21: DeprecationWarning: The return type of saved statevectors has been changed from a `numpy.ndarray` to a `qiskit.quantum_info.Statevector` as of qiskit-aer 0.10. Accessing numpy array attributes is deprecated and will result in an error in a future release. To continue using saved result objects as arrays you can explicitly cast them using  `np.asarray(object)`.\n",
      "  fidelity = np.abs(np.dot(final_statevector, inverse_statevector.conj())) ** 2\n"
     ]
    },
    {
     "name": "stdout",
     "output_type": "stream",
     "text": [
      "[0.6531934942820226, 0.7352172134037547, 0.6649332788234777, 0.6978485131366952]\n"
     ]
    }
   ],
   "source": [
    "# Example usage\n",
    "num_qubits = 2\n",
    "depths = [1, 2, 3, 4]\n",
    "num_sequences = 100\n",
    "shots = 1024\n",
    "\n",
    "results = randomized_benchmarking(num_qubits, depths, num_sequences, shots)\n",
    "print(results)"
   ]
  },
  {
   "cell_type": "code",
   "execution_count": null,
   "id": "964c36ef",
   "metadata": {},
   "outputs": [],
   "source": []
  }
 ],
 "metadata": {
  "kernelspec": {
   "display_name": "Python 3 (ipykernel)",
   "language": "python",
   "name": "python3"
  },
  "language_info": {
   "codemirror_mode": {
    "name": "ipython",
    "version": 3
   },
   "file_extension": ".py",
   "mimetype": "text/x-python",
   "name": "python",
   "nbconvert_exporter": "python",
   "pygments_lexer": "ipython3",
   "version": "3.11.5"
  }
 },
 "nbformat": 4,
 "nbformat_minor": 5
}
