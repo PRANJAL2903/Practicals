{
  "nbformat": 4,
  "nbformat_minor": 0,
  "metadata": {
    "colab": {
      "provenance": []
    },
    "kernelspec": {
      "name": "python3",
      "display_name": "Python 3"
    },
    "language_info": {
      "name": "python"
    }
  },
  "cells": [
    {
      "cell_type": "code",
      "source": [
        "pip install qiskit"
      ],
      "metadata": {
        "colab": {
          "base_uri": "https://localhost:8080/"
        },
        "id": "7akQCaDQo4Tj",
        "outputId": "7af555eb-69ea-414b-d2f2-3c6268808582"
      },
      "execution_count": 2,
      "outputs": [
        {
          "output_type": "stream",
          "name": "stdout",
          "text": [
            "Collecting qiskit\n",
            "  Downloading qiskit-0.45.0-py3-none-any.whl (9.6 kB)\n",
            "Collecting qiskit-terra==0.45.0 (from qiskit)\n",
            "  Downloading qiskit_terra-0.45.0-cp38-abi3-manylinux_2_17_x86_64.manylinux2014_x86_64.whl (6.3 MB)\n",
            "\u001b[2K     \u001b[90m━━━━━━━━━━━━━━━━━━━━━━━━━━━━━━━━━━━━━━━━\u001b[0m \u001b[32m6.3/6.3 MB\u001b[0m \u001b[31m14.6 MB/s\u001b[0m eta \u001b[36m0:00:00\u001b[0m\n",
            "\u001b[?25hCollecting rustworkx>=0.13.0 (from qiskit-terra==0.45.0->qiskit)\n",
            "  Downloading rustworkx-0.13.2-cp310-cp310-manylinux_2_17_x86_64.manylinux2014_x86_64.whl (2.0 MB)\n",
            "\u001b[2K     \u001b[90m━━━━━━━━━━━━━━━━━━━━━━━━━━━━━━━━━━━━━━━━\u001b[0m \u001b[32m2.0/2.0 MB\u001b[0m \u001b[31m23.2 MB/s\u001b[0m eta \u001b[36m0:00:00\u001b[0m\n",
            "\u001b[?25hRequirement already satisfied: numpy<2,>=1.17 in /usr/local/lib/python3.10/dist-packages (from qiskit-terra==0.45.0->qiskit) (1.23.5)\n",
            "Collecting ply>=3.10 (from qiskit-terra==0.45.0->qiskit)\n",
            "  Downloading ply-3.11-py2.py3-none-any.whl (49 kB)\n",
            "\u001b[2K     \u001b[90m━━━━━━━━━━━━━━━━━━━━━━━━━━━━━━━━━━━━━━━━\u001b[0m \u001b[32m49.6/49.6 kB\u001b[0m \u001b[31m5.8 MB/s\u001b[0m eta \u001b[36m0:00:00\u001b[0m\n",
            "\u001b[?25hRequirement already satisfied: psutil>=5 in /usr/local/lib/python3.10/dist-packages (from qiskit-terra==0.45.0->qiskit) (5.9.5)\n",
            "Requirement already satisfied: scipy>=1.5 in /usr/local/lib/python3.10/dist-packages (from qiskit-terra==0.45.0->qiskit) (1.11.3)\n",
            "Requirement already satisfied: sympy>=1.3 in /usr/local/lib/python3.10/dist-packages (from qiskit-terra==0.45.0->qiskit) (1.12)\n",
            "Collecting dill>=0.3 (from qiskit-terra==0.45.0->qiskit)\n",
            "  Downloading dill-0.3.7-py3-none-any.whl (115 kB)\n",
            "\u001b[2K     \u001b[90m━━━━━━━━━━━━━━━━━━━━━━━━━━━━━━━━━━━━━━━━\u001b[0m \u001b[32m115.3/115.3 kB\u001b[0m \u001b[31m14.5 MB/s\u001b[0m eta \u001b[36m0:00:00\u001b[0m\n",
            "\u001b[?25hRequirement already satisfied: python-dateutil>=2.8.0 in /usr/local/lib/python3.10/dist-packages (from qiskit-terra==0.45.0->qiskit) (2.8.2)\n",
            "Collecting stevedore>=3.0.0 (from qiskit-terra==0.45.0->qiskit)\n",
            "  Downloading stevedore-5.1.0-py3-none-any.whl (49 kB)\n",
            "\u001b[2K     \u001b[90m━━━━━━━━━━━━━━━━━━━━━━━━━━━━━━━━━━━━━━━━\u001b[0m \u001b[32m49.6/49.6 kB\u001b[0m \u001b[31m5.9 MB/s\u001b[0m eta \u001b[36m0:00:00\u001b[0m\n",
            "\u001b[?25hCollecting symengine<0.10,>=0.9 (from qiskit-terra==0.45.0->qiskit)\n",
            "  Downloading symengine-0.9.2-cp310-cp310-manylinux2010_x86_64.whl (37.5 MB)\n",
            "\u001b[2K     \u001b[90m━━━━━━━━━━━━━━━━━━━━━━━━━━━━━━━━━━━━━━━━\u001b[0m \u001b[32m37.5/37.5 MB\u001b[0m \u001b[31m17.4 MB/s\u001b[0m eta \u001b[36m0:00:00\u001b[0m\n",
            "\u001b[?25hRequirement already satisfied: typing-extensions in /usr/local/lib/python3.10/dist-packages (from qiskit-terra==0.45.0->qiskit) (4.5.0)\n",
            "Requirement already satisfied: six>=1.5 in /usr/local/lib/python3.10/dist-packages (from python-dateutil>=2.8.0->qiskit-terra==0.45.0->qiskit) (1.16.0)\n",
            "Collecting pbr!=2.1.0,>=2.0.0 (from stevedore>=3.0.0->qiskit-terra==0.45.0->qiskit)\n",
            "  Downloading pbr-5.11.1-py2.py3-none-any.whl (112 kB)\n",
            "\u001b[2K     \u001b[90m━━━━━━━━━━━━━━━━━━━━━━━━━━━━━━━━━━━━━━━━\u001b[0m \u001b[32m112.7/112.7 kB\u001b[0m \u001b[31m14.3 MB/s\u001b[0m eta \u001b[36m0:00:00\u001b[0m\n",
            "\u001b[?25hRequirement already satisfied: mpmath>=0.19 in /usr/local/lib/python3.10/dist-packages (from sympy>=1.3->qiskit-terra==0.45.0->qiskit) (1.3.0)\n",
            "Installing collected packages: ply, symengine, rustworkx, pbr, dill, stevedore, qiskit-terra, qiskit\n",
            "Successfully installed dill-0.3.7 pbr-5.11.1 ply-3.11 qiskit-0.45.0 qiskit-terra-0.45.0 rustworkx-0.13.2 stevedore-5.1.0 symengine-0.9.2\n"
          ]
        }
      ]
    },
    {
      "cell_type": "code",
      "source": [
        "pip install qiskit-aer"
      ],
      "metadata": {
        "colab": {
          "base_uri": "https://localhost:8080/"
        },
        "id": "bfR3MnebpDxA",
        "outputId": "14bf6f78-d705-49b4-cdc2-62b517d7a8cc"
      },
      "execution_count": 5,
      "outputs": [
        {
          "output_type": "stream",
          "name": "stdout",
          "text": [
            "Collecting qiskit-aer\n",
            "  Downloading qiskit_aer-0.13.0-cp310-cp310-manylinux_2_17_x86_64.manylinux2014_x86_64.whl (12.3 MB)\n",
            "\u001b[2K     \u001b[90m━━━━━━━━━━━━━━━━━━━━━━━━━━━━━━━━━━━━━━━━\u001b[0m \u001b[32m12.3/12.3 MB\u001b[0m \u001b[31m78.3 MB/s\u001b[0m eta \u001b[36m0:00:00\u001b[0m\n",
            "\u001b[?25hRequirement already satisfied: qiskit>=0.44.0 in /usr/local/lib/python3.10/dist-packages (from qiskit-aer) (0.45.0)\n",
            "Requirement already satisfied: numpy>=1.16.3 in /usr/local/lib/python3.10/dist-packages (from qiskit-aer) (1.23.5)\n",
            "Requirement already satisfied: scipy>=1.0 in /usr/local/lib/python3.10/dist-packages (from qiskit-aer) (1.11.3)\n",
            "Requirement already satisfied: qiskit-terra==0.45.0 in /usr/local/lib/python3.10/dist-packages (from qiskit>=0.44.0->qiskit-aer) (0.45.0)\n",
            "Requirement already satisfied: rustworkx>=0.13.0 in /usr/local/lib/python3.10/dist-packages (from qiskit-terra==0.45.0->qiskit>=0.44.0->qiskit-aer) (0.13.2)\n",
            "Requirement already satisfied: ply>=3.10 in /usr/local/lib/python3.10/dist-packages (from qiskit-terra==0.45.0->qiskit>=0.44.0->qiskit-aer) (3.11)\n",
            "Requirement already satisfied: psutil>=5 in /usr/local/lib/python3.10/dist-packages (from qiskit-terra==0.45.0->qiskit>=0.44.0->qiskit-aer) (5.9.5)\n",
            "Requirement already satisfied: sympy>=1.3 in /usr/local/lib/python3.10/dist-packages (from qiskit-terra==0.45.0->qiskit>=0.44.0->qiskit-aer) (1.12)\n",
            "Requirement already satisfied: dill>=0.3 in /usr/local/lib/python3.10/dist-packages (from qiskit-terra==0.45.0->qiskit>=0.44.0->qiskit-aer) (0.3.7)\n",
            "Requirement already satisfied: python-dateutil>=2.8.0 in /usr/local/lib/python3.10/dist-packages (from qiskit-terra==0.45.0->qiskit>=0.44.0->qiskit-aer) (2.8.2)\n",
            "Requirement already satisfied: stevedore>=3.0.0 in /usr/local/lib/python3.10/dist-packages (from qiskit-terra==0.45.0->qiskit>=0.44.0->qiskit-aer) (5.1.0)\n",
            "Requirement already satisfied: symengine<0.10,>=0.9 in /usr/local/lib/python3.10/dist-packages (from qiskit-terra==0.45.0->qiskit>=0.44.0->qiskit-aer) (0.9.2)\n",
            "Requirement already satisfied: typing-extensions in /usr/local/lib/python3.10/dist-packages (from qiskit-terra==0.45.0->qiskit>=0.44.0->qiskit-aer) (4.5.0)\n",
            "Requirement already satisfied: six>=1.5 in /usr/local/lib/python3.10/dist-packages (from python-dateutil>=2.8.0->qiskit-terra==0.45.0->qiskit>=0.44.0->qiskit-aer) (1.16.0)\n",
            "Requirement already satisfied: pbr!=2.1.0,>=2.0.0 in /usr/local/lib/python3.10/dist-packages (from stevedore>=3.0.0->qiskit-terra==0.45.0->qiskit>=0.44.0->qiskit-aer) (5.11.1)\n",
            "Requirement already satisfied: mpmath>=0.19 in /usr/local/lib/python3.10/dist-packages (from sympy>=1.3->qiskit-terra==0.45.0->qiskit>=0.44.0->qiskit-aer) (1.3.0)\n",
            "Installing collected packages: qiskit-aer\n",
            "Successfully installed qiskit-aer-0.13.0\n"
          ]
        }
      ]
    },
    {
      "cell_type": "code",
      "execution_count": 7,
      "metadata": {
        "colab": {
          "base_uri": "https://localhost:8080/"
        },
        "id": "vRmP_Z4xovt3",
        "outputId": "f3d55097-1a77-443a-d056-17567e1aa0db"
      },
      "outputs": [
        {
          "output_type": "stream",
          "name": "stdout",
          "text": [
            "        ┌───┐                                                                »\n",
            "   q_0: ┤ H ├─■────────■─────────────────■─────────────────■─────────────────»\n",
            "        ├───┤ │P(π/2)  │                 │                 │                 »\n",
            "   q_1: ┤ H ├─■────────┼────────■────────┼────────■────────┼─────────────────»\n",
            "        ├───┤          │P(π/4)  │P(π/2)  │        │        │                 »\n",
            "   q_2: ┤ H ├──────────■────────■────────┼────────┼────────┼─────────■───────»\n",
            "        ├───┤                            │P(π/8)  │P(π/4)  │         │P(π/2) »\n",
            "   q_3: ┤ H ├────────────────────────────■────────■────────┼─────────■───────»\n",
            "        ├───┤                                              │P(π/16)          »\n",
            "   q_4: ┤ H ├──────────────────────────────────────────────■─────────────────»\n",
            "        └───┘                                                                »\n",
            "meas: 5/═════════════════════════════════════════════════════════════════════»\n",
            "                                                                             »\n",
            "«                                          ░ ┌─┐            \n",
            "«   q_0: ────────────────────────────X─────░─┤M├────────────\n",
            "«                                    │     ░ └╥┘┌─┐         \n",
            "«   q_1: ─■──────────────────────────┼──X──░──╫─┤M├─────────\n",
            "«         │                          │  │  ░  ║ └╥┘┌─┐      \n",
            "«   q_2: ─┼────────■─────────────────┼──┼──░──╫──╫─┤M├──────\n",
            "«         │        │                 │  │  ░  ║  ║ └╥┘┌─┐   \n",
            "«   q_3: ─┼────────┼────────■────────┼──X──░──╫──╫──╫─┤M├───\n",
            "«         │P(π/8)  │P(π/4)  │P(π/2)  │     ░  ║  ║  ║ └╥┘┌─┐\n",
            "«   q_4: ─■────────■────────■────────X─────░──╫──╫──╫──╫─┤M├\n",
            "«                                          ░  ║  ║  ║  ║ └╥┘\n",
            "«meas: 5/═════════════════════════════════════╩══╩══╩══╩══╩═\n",
            "«                                             0  1  2  3  4 \n",
            "{'01001': 32, '11010': 30, '10011': 31, '11100': 32, '10010': 34, '10101': 32, '10100': 31, '10111': 26, '00110': 24, '00001': 27, '01111': 36, '01010': 31, '11110': 35, '01000': 27, '01100': 35, '00100': 43, '00011': 26, '00111': 31, '01011': 32, '01101': 46, '11000': 35, '01110': 27, '10000': 32, '11111': 36, '11011': 31, '10001': 29, '00101': 29, '10110': 35, '00000': 42, '11001': 31, '00010': 31, '11101': 25}\n"
          ]
        }
      ],
      "source": [
        "import numpy as np\n",
        "from qiskit import QuantumCircuit, transpile, assemble, Aer, execute\n",
        "\n",
        "# Create a 5-qubit quantum circuit\n",
        "n = 5\n",
        "qft_circuit = QuantumCircuit(n)\n",
        "\n",
        "# Define a custom controlled phase gate\n",
        "def controlled_phase(circuit, control_qubit, target_qubit, angle):\n",
        "    circuit.cp(angle, control_qubit, target_qubit)\n",
        "\n",
        "# Apply Hadamard gates to all qubits\n",
        "for qubit in range(n):\n",
        "    qft_circuit.h(qubit)\n",
        "\n",
        "# Apply controlled phase gates\n",
        "for target_qubit in range(n):\n",
        "    for control_qubit in range(target_qubit):\n",
        "        angle = 2 * np.pi / (2 ** (target_qubit - control_qubit + 1))\n",
        "        controlled_phase(qft_circuit, control_qubit, target_qubit, angle)\n",
        "\n",
        "# Perform qubit swap operations to reverse the order\n",
        "for qubit in range(n // 2):\n",
        "    qft_circuit.swap(qubit, n - 1 - qubit)\n",
        "\n",
        "# Measure all qubits\n",
        "qft_circuit.measure_all()\n",
        "\n",
        "# Print the circuit\n",
        "print(qft_circuit)\n",
        "\n",
        "# Simulate the quantum circuit\n",
        "simulator = Aer.get_backend('qasm_simulator')\n",
        "qft_transpiled = transpile(qft_circuit, simulator)\n",
        "qft_job = execute(qft_transpiled, simulator, shots=1024)\n",
        "qft_result = qft_job.result()\n",
        "\n",
        "# Get the results\n",
        "counts = qft_result.get_counts()\n",
        "print(counts)\n"
      ]
    },
    {
      "cell_type": "code",
      "source": [],
      "metadata": {
        "id": "H9C4Mo8dpH--"
      },
      "execution_count": null,
      "outputs": []
    }
  ]
}