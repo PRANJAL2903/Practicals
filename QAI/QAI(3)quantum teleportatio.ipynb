{
 "cells": [
  {
   "cell_type": "code",
   "execution_count": 7,
   "id": "0e9b7a68",
   "metadata": {},
   "outputs": [
    {
     "name": "stdout",
     "output_type": "stream",
     "text": [
      "Requirement already satisfied: qiskit in c:\\users\\hp\\anaconda3\\lib\\site-packages (0.44.3)\n",
      "Requirement already satisfied: qiskit-terra==0.25.3 in c:\\users\\hp\\anaconda3\\lib\\site-packages (from qiskit) (0.25.3)\n",
      "Requirement already satisfied: rustworkx>=0.13.0 in c:\\users\\hp\\anaconda3\\lib\\site-packages (from qiskit-terra==0.25.3->qiskit) (0.13.2)\n",
      "Requirement already satisfied: numpy>=1.17 in c:\\users\\hp\\anaconda3\\lib\\site-packages (from qiskit-terra==0.25.3->qiskit) (1.24.3)\n",
      "Requirement already satisfied: ply>=3.10 in c:\\users\\hp\\anaconda3\\lib\\site-packages (from qiskit-terra==0.25.3->qiskit) (3.11)\n",
      "Requirement already satisfied: psutil>=5 in c:\\users\\hp\\anaconda3\\lib\\site-packages (from qiskit-terra==0.25.3->qiskit) (5.9.0)\n",
      "Requirement already satisfied: scipy>=1.5 in c:\\users\\hp\\anaconda3\\lib\\site-packages (from qiskit-terra==0.25.3->qiskit) (1.11.1)\n",
      "Requirement already satisfied: sympy>=1.3 in c:\\users\\hp\\anaconda3\\lib\\site-packages (from qiskit-terra==0.25.3->qiskit) (1.11.1)\n",
      "Requirement already satisfied: dill>=0.3 in c:\\users\\hp\\anaconda3\\lib\\site-packages (from qiskit-terra==0.25.3->qiskit) (0.3.6)\n",
      "Requirement already satisfied: python-dateutil>=2.8.0 in c:\\users\\hp\\anaconda3\\lib\\site-packages (from qiskit-terra==0.25.3->qiskit) (2.8.2)\n",
      "Requirement already satisfied: stevedore>=3.0.0 in c:\\users\\hp\\anaconda3\\lib\\site-packages (from qiskit-terra==0.25.3->qiskit) (5.1.0)\n",
      "Requirement already satisfied: six>=1.5 in c:\\users\\hp\\anaconda3\\lib\\site-packages (from python-dateutil>=2.8.0->qiskit-terra==0.25.3->qiskit) (1.16.0)\n",
      "Requirement already satisfied: pbr!=2.1.0,>=2.0.0 in c:\\users\\hp\\anaconda3\\lib\\site-packages (from stevedore>=3.0.0->qiskit-terra==0.25.3->qiskit) (5.11.1)\n",
      "Requirement already satisfied: mpmath>=0.19 in c:\\users\\hp\\anaconda3\\lib\\site-packages (from sympy>=1.3->qiskit-terra==0.25.3->qiskit) (1.3.0)\n",
      "Note: you may need to restart the kernel to use updated packages.\n"
     ]
    }
   ],
   "source": [
    "pip install qiskit"
   ]
  },
  {
   "cell_type": "code",
   "execution_count": 8,
   "id": "537103e7",
   "metadata": {},
   "outputs": [],
   "source": [
    "from qiskit import QuantumCircuit, transpile, execute, Aer\n",
    "from qiskit.visualization import plot_histogram"
   ]
  },
  {
   "cell_type": "code",
   "execution_count": 9,
   "id": "71a29214",
   "metadata": {},
   "outputs": [],
   "source": [
    "\n",
    "# Step 1: Create a quantum circuit\n",
    "qc = QuantumCircuit(3, 3)"
   ]
  },
  {
   "cell_type": "code",
   "execution_count": 10,
   "id": "ef513426",
   "metadata": {},
   "outputs": [
    {
     "data": {
      "text/plain": [
       "<qiskit.circuit.instructionset.InstructionSet at 0x1ed51743a00>"
      ]
     },
     "execution_count": 10,
     "metadata": {},
     "output_type": "execute_result"
    }
   ],
   "source": [
    "# Step 2: Prepare the state to be teleported\n",
    "# Here, we'll use the Hadamard gate and the X gate to create an arbitrary state\n",
    "qc.h(0)  # Apply Hadamard gate to qubit 0\n",
    "qc.x(1)  # Apply X gate to qubit 1"
   ]
  },
  {
   "cell_type": "code",
   "execution_count": 11,
   "id": "6e1a80a7",
   "metadata": {},
   "outputs": [
    {
     "data": {
      "text/plain": [
       "<qiskit.circuit.instructionset.InstructionSet at 0x1ed51743550>"
      ]
     },
     "execution_count": 11,
     "metadata": {},
     "output_type": "execute_result"
    }
   ],
   "source": [
    "# Step 3: Create an entangled Bell pair (Bell state)\n",
    "qc.h(1)  # Apply Hadamard gate to qubit 1\n",
    "qc.cx(1, 2)  # Apply CNOT gate to create an entangled state"
   ]
  },
  {
   "cell_type": "code",
   "execution_count": 12,
   "id": "b8a174df",
   "metadata": {},
   "outputs": [
    {
     "data": {
      "text/plain": [
       "<qiskit.circuit.instructionset.InstructionSet at 0x1ed51743910>"
      ]
     },
     "execution_count": 12,
     "metadata": {},
     "output_type": "execute_result"
    }
   ],
   "source": [
    "# Step 4: Perform a Bell measurement on the two qubits to be teleported\n",
    "qc.cx(0, 1)  # Apply CNOT gate with qubit 0 as the control and qubit 1 as the target\n",
    "qc.h(0)  # Apply Hadamard gate to qubit 0\n",
    "qc.measure([0, 1], [0, 1])  # Measure qubits 0 and 1 and store the results in classical bits 0 and 1"
   ]
  },
  {
   "cell_type": "code",
   "execution_count": 14,
   "id": "2d73b324",
   "metadata": {},
   "outputs": [
    {
     "data": {
      "text/plain": [
       "<qiskit.circuit.instructionset.InstructionSet at 0x1ed51742da0>"
      ]
     },
     "execution_count": 14,
     "metadata": {},
     "output_type": "execute_result"
    }
   ],
   "source": [
    "#Step 6: Perform corrections based on the classical information\n",
    "qc.z(2).c_if(0, 1)  # If the measurement result of qubit 0 is 1, apply Z gate to qubit 2\n",
    "qc.x(2).c_if(1, 1)  # If the measurement result of qubit 1 is 1, apply X gate to qubit 2\n"
   ]
  },
  {
   "cell_type": "code",
   "execution_count": 15,
   "id": "6f726408",
   "metadata": {},
   "outputs": [
    {
     "data": {
      "text/plain": [
       "<qiskit.circuit.instructionset.InstructionSet at 0x1ed51743160>"
      ]
     },
     "execution_count": 15,
     "metadata": {},
     "output_type": "execute_result"
    }
   ],
   "source": [
    "# Step 7: Measure the qubit to be teleported and store the result in a classical bit\n",
    "qc.measure(2, 2)"
   ]
  },
  {
   "cell_type": "code",
   "execution_count": 16,
   "id": "b8fc16da",
   "metadata": {},
   "outputs": [],
   "source": [
    "# Step 8: Simulate the quantum circuit\n",
    "simulator = Aer.get_backend('qasm_simulator')\n",
    "compiled_circuit = transpile(qc, simulator)\n",
    "job = execute(compiled_circuit, simulator, shots=1024)\n",
    "result = job.result()"
   ]
  },
  {
   "cell_type": "code",
   "execution_count": 17,
   "id": "cdef21e5",
   "metadata": {},
   "outputs": [
    {
     "name": "stdout",
     "output_type": "stream",
     "text": [
      "Measurement results: {'101': 128, '111': 120, '100': 139, '011': 123, '010': 133, '001': 126, '000': 130, '110': 125}\n"
     ]
    }
   ],
   "source": [
    "# Step 9: Display the measurement results\n",
    "counts = result.get_counts()\n",
    "print(\"Measurement results:\", counts)"
   ]
  },
  {
   "cell_type": "code",
   "execution_count": 18,
   "id": "86d7646d",
   "metadata": {},
   "outputs": [
    {
     "data": {
      "image/png": "[encoded data removed]",
      "text/plain": [
       "<Figure size 700x500 with 1 Axes>"
      ]
     },
     "execution_count": 18,
     "metadata": {},
     "output_type": "execute_result"
    }
   ],
   "source": [
    "# Visualize the circuit and results\n",
    "qc.draw(output='mpl')\n",
    "plot_histogram(counts)"
   ]
  },
  {
   "cell_type": "code",
   "execution_count": 22,
   "id": "ca7a6bde",
   "metadata": {},
   "outputs": [
    {
     "data": {
      "text/html": [
       "<pre style=\"word-wrap: normal;white-space: pre;background: #fff0;line-height: 1.1;font-family: &quot;Courier New&quot;,Courier,monospace\">     ┌───┐               ┌───┐┌─┐                         \n",
       "q_0: ┤ H ├────────────■──┤ H ├┤M├─────────────────────────\n",
       "     ├───┤┌───┐     ┌─┴─┐└┬─┬┘└╥┘                         \n",
       "q_1: ┤ X ├┤ H ├──■──┤ X ├─┤M├──╫──────────────────────────\n",
       "     └───┘└───┘┌─┴─┐└───┘ └╥┘  ║    ┌───┐      ┌───┐   ┌─┐\n",
       "q_2: ──────────┤ X ├───────╫───╫────┤ Z ├──────┤ X ├───┤M├\n",
       "               └───┘       ║   ║    └─╥─┘      └─╥─┘   └╥┘\n",
       "                           ║   ║ ┌────╨────┐┌────╨────┐ ║ \n",
       "c: 3/══════════════════════╩═══╩═╡ c_0=0x1 ╞╡ c_1=0x1 ╞═╩═\n",
       "                           1   0 └─────────┘└─────────┘ 2 </pre>"
      ],
      "text/plain": [
       "     ┌───┐               ┌───┐┌─┐                         \n",
       "q_0: ┤ H ├────────────■──┤ H ├┤M├─────────────────────────\n",
       "     ├───┤┌───┐     ┌─┴─┐└┬─┬┘└╥┘                         \n",
       "q_1: ┤ X ├┤ H ├──■──┤ X ├─┤M├──╫──────────────────────────\n",
       "     └───┘└───┘┌─┴─┐└───┘ └╥┘  ║    ┌───┐      ┌───┐   ┌─┐\n",
       "q_2: ──────────┤ X ├───────╫───╫────┤ Z ├──────┤ X ├───┤M├\n",
       "               └───┘       ║   ║    └─╥─┘      └─╥─┘   └╥┘\n",
       "                           ║   ║ ┌────╨────┐┌────╨────┐ ║ \n",
       "c: 3/══════════════════════╩═══╩═╡ c_0=0x1 ╞╡ c_1=0x1 ╞═╩═\n",
       "                           1   0 └─────────┘└─────────┘ 2 "
      ]
     },
     "execution_count": 22,
     "metadata": {},
     "output_type": "execute_result"
    }
   ],
   "source": [
    "qc.draw()"
   ]
  },
  {
   "cell_type": "code",
   "execution_count": null,
   "id": "b573c64f",
   "metadata": {},
   "outputs": [],
   "source": []
  },
  {
   "cell_type": "code",
   "execution_count": null,
   "id": "6fc349d7",
   "metadata": {},
   "outputs": [],
   "source": []
  }
 ],
 "metadata": {
  "kernelspec": {
   "display_name": "Python 3 (ipykernel)",
   "language": "python",
   "name": "python3"
  },
  "language_info": {
   "codemirror_mode": {
    "name": "ipython",
    "version": 3
   },
   "file_extension": ".py",
   "mimetype": "text/x-python",
   "name": "python",
   "nbconvert_exporter": "python",
   "pygments_lexer": "ipython3",
   "version": "3.11.5"
  }
 },
 "nbformat": 4,
 "nbformat_minor": 5
}
