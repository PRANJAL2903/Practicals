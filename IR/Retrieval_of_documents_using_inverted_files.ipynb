{
  "nbformat": 4,
  "nbformat_minor": 0,
  "metadata": {
    "colab": {
      "provenance": []
    },
    "kernelspec": {
      "name": "python3",
      "display_name": "Python 3"
    },
    "language_info": {
      "name": "python"
    }
  },
  "cells": [
    {
      "cell_type": "code",
      "execution_count": 1,
      "metadata": {
        "id": "AoSYkXW1SCrq"
      },
      "outputs": [],
      "source": [
        "#Define the documents\n",
        "document1=\"The quick brown fox jumped over the lazy dog.\"\n",
        "document2=\"The lazy dog slept in the sun\""
      ]
    },
    {
      "cell_type": "code",
      "source": [
        "#Step 1: Tokenize the documents\n",
        "#convert each document to lowercase and split it into words\n",
        "tokens1=document1.lower().split()\n",
        "tokens2=document2.lower().split()"
      ],
      "metadata": {
        "id": "t5bWD5QGTdCT"
      },
      "execution_count": 3,
      "outputs": []
    },
    {
      "cell_type": "code",
      "source": [
        "#Combine the tokens into a list of unique terms\n",
        "terms=list(set(tokens1+tokens2))"
      ],
      "metadata": {
        "id": "ZWuAE9egTyIb"
      },
      "execution_count": 4,
      "outputs": []
    },
    {
      "cell_type": "code",
      "source": [
        "#Step 2: Build the inverted index\n",
        "#Create an empty dictionary to store the inverted index\n",
        "inverted_index={}\n",
        "#For each term, find the documents that contain it\n",
        "\n",
        "for term in terms:\n",
        "  documents=[]\n",
        "  if term in tokens1:\n",
        "    documents.append(\"Document 1\")\n",
        "  if term in tokens2:\n",
        "    documents.append(\"Document 2\")\n",
        "  inverted_index[term]=documents"
      ],
      "metadata": {
        "id": "B9CqMa3oT-Dm"
      },
      "execution_count": 5,
      "outputs": []
    },
    {
      "cell_type": "code",
      "source": [
        "#Step 3: PRint the inverted index\n",
        "for term, documents in inverted_index.items():\n",
        "  print(term,\"->\",\" \".join(documents))"
      ],
      "metadata": {
        "colab": {
          "base_uri": "https://localhost:8080/"
        },
        "id": "BCPDrTFBVDgH",
        "outputId": "73efa04c-be0c-496f-9ac9-6d84d161cdca"
      },
      "execution_count": 6,
      "outputs": [
        {
          "output_type": "stream",
          "name": "stdout",
          "text": [
            "fox -> Document 1\n",
            "brown -> Document 1\n",
            "lazy -> Document 1 Document 2\n",
            "dog -> Document 2\n",
            "the -> Document 1 Document 2\n",
            "slept -> Document 2\n",
            "dog. -> Document 1\n",
            "sun -> Document 2\n",
            "in -> Document 2\n",
            "over -> Document 1\n",
            "jumped -> Document 1\n",
            "quick -> Document 1\n"
          ]
        }
      ]
    },
    {
      "cell_type": "code",
      "source": [],
      "metadata": {
        "id": "hlLmMhw7VSUq"
      },
      "execution_count": null,
      "outputs": []
    }
  ]
}